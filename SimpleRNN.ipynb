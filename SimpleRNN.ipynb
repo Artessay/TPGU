{
 "cells": [
  {
   "cell_type": "code",
   "execution_count": 1,
   "metadata": {},
   "outputs": [],
   "source": [
    "import tensorflow\n",
    "tf = tensorflow.compat.v1\n",
    "tf.disable_eager_execution()"
   ]
  },
  {
   "cell_type": "code",
   "execution_count": 2,
   "metadata": {},
   "outputs": [],
   "source": [
    "n_inputs = 3\n",
    "n_neurons = 5\n",
    "\n",
    "X0 = tf.placeholder(dtype=tf.float32, shape=[None, n_inputs])\n",
    "X1 = tf.placeholder(dtype=tf.float32, shape=[None, n_inputs])\n",
    "\n",
    "Wx = tf.Variable(tf.random_normal(shape=[n_inputs, n_neurons], dtype=tf.float32))\n",
    "Wy = tf.Variable(tf.random_normal(shape=[n_neurons, n_neurons], dtype=tf.float32))\n",
    "b = tf.Variable(tf.zeros([1, n_neurons], dtype=tf.float32))\n",
    "\n",
    "Y0 = tf.tanh(tf.matmul(X0, Wx) + b)\n",
    "Y1 = tf.tanh(tf.matmul(Y0, Wy) + tf.matmul(X1, Wx) + b)\n",
    "\n",
    "init = tf.global_variables_initializer()"
   ]
  },
  {
   "cell_type": "code",
   "execution_count": 3,
   "metadata": {},
   "outputs": [],
   "source": [
    "import numpy as np\n",
    "\n",
    "# Mini-batch:  4 instances\n",
    "X0_batch = np.array([\n",
    "    [0, 1, 2], [3, 4, 5], [6, 7, 8], [9, 0, 1]\n",
    "])\n",
    "X1_batch = np.array([\n",
    "    [9, 8, 7], [0, 0, 0], [6, 5, 4], [3, 2, 1]\n",
    "])"
   ]
  },
  {
   "cell_type": "markdown",
   "metadata": {},
   "source": [
    "在之前定义tf.variable里的W时只是定义了这个变量值初始化的方式的，但并没有真正对其初始化，直到运行了tf.global_variables_initializer().run()之后才完成了变量的初始化。\n",
    "sess.run([Y0, Y1], feed_dict={X0: X0_batch, X1: X1_batch}) 的意思是执行[Y0, Y1]函数，执行时将其中的X0和X1替换为X0_batch, X1_batch。\n",
    "下面的函数只是执行了一步，还并没有开始训练"
   ]
  },
  {
   "cell_type": "code",
   "execution_count": 4,
   "metadata": {},
   "outputs": [],
   "source": [
    "with tf.Session() as sess:\n",
    "    init.run()\n",
    "    Y0_val, Y1_val = sess.run([Y0, Y1], feed_dict={X0: X0_batch, X1: X1_batch})"
   ]
  },
  {
   "cell_type": "code",
   "execution_count": 5,
   "metadata": {},
   "outputs": [
    {
     "name": "stdout",
     "output_type": "stream",
     "text": [
      "[[ 0.99721074  0.9999335   0.48385316 -0.96940815 -0.3043463 ]\n",
      " [ 1.          1.          0.9999827  -1.         -0.9858921 ]\n",
      " [ 1.          1.          1.         -1.         -0.99981076]\n",
      " [ 1.         -1.          1.         -1.         -0.80549014]]\n",
      "[[ 1.          1.          1.         -1.         -0.99999636]\n",
      " [-0.99969256 -0.89230347 -0.7638404  -0.25740027 -0.9329769 ]\n",
      " [ 1.          0.99966717  1.         -1.         -0.99997884]\n",
      " [ 0.99997514 -0.7768876   0.99455863 -1.         -0.99953794]]\n"
     ]
    }
   ],
   "source": [
    "print(Y0_val)\n",
    "print(Y1_val)"
   ]
  },
  {
   "cell_type": "code",
   "execution_count": 6,
   "metadata": {},
   "outputs": [
    {
     "name": "stdout",
     "output_type": "stream",
     "text": [
      "WARNING:tensorflow:From C:\\Users\\Administrator\\AppData\\Local\\Temp\\ipykernel_3868\\379476147.py:6: static_rnn (from tensorflow.python.ops.rnn) is deprecated and will be removed in a future version.\n",
      "Instructions for updating:\n",
      "Please use `keras.layers.RNN(cell, unroll=True)`, which is equivalent to this API\n"
     ]
    }
   ],
   "source": [
    "X0 = tf.placeholder(dtype=tf.float32, shape=[None, n_inputs])\n",
    "X1 = tf.placeholder(dtype=tf.float32, shape=[None, n_inputs])\n",
    "\n",
    "# basic_cell = tf.nn.rnn_cell.BasicRNNCell(num_units=n_neurons)\n",
    "basic_cell = tensorflow.keras.layers.SimpleRNNCell(units=n_neurons)\n",
    "output_seqs, states = tf.nn.static_rnn(cell=basic_cell, inputs=[X0, X1], dtype=tf.float32)\n",
    "\n",
    "Y0, Y1 = output_seqs"
   ]
  },
  {
   "cell_type": "markdown",
   "metadata": {},
   "source": [
    "上面这种方法虽然可行，但显然当时间迭代长的时候是一件不那么容易的事情，所以，我们换一种做法。\n",
    "\n",
    "tf.transpose(X, perm=[1, 0, 2]) 是一个张量转置的函数，在这里就是将第一维和第二维转置，第三维保持不变。交换维度后，第一个时间迭代将称为第一个维度。unstack函数将抽取第一个维度的张良；stack函数合并所有输出张量为一个张量"
   ]
  },
  {
   "cell_type": "code",
   "execution_count": 7,
   "metadata": {},
   "outputs": [],
   "source": [
    "n_steps = 2\n",
    "n_inputs = 3\n",
    "n_neurons = 5"
   ]
  },
  {
   "cell_type": "code",
   "execution_count": 8,
   "metadata": {},
   "outputs": [],
   "source": [
    "tf.reset_default_graph()\n",
    "\n",
    "X = tf.placeholder(dtype=tf.float32, shape=[None, n_steps, n_inputs])\n",
    "X_seqs = tf.unstack(tf.transpose(X, perm=[1, 0, 2]))\n",
    "basic_cell = tensorflow.keras.layers.SimpleRNNCell(units=n_neurons)\n",
    "# basic_cell = tf.nn.rnn_cell.BasicRNNCell(num_units=n_neurons)\n",
    "output_seqs, states = tf.nn.static_rnn(cell=basic_cell, inputs=X_seqs, dtype=tf.float32)\n",
    "\n",
    "outputs = tf.transpose(tf.stack(output_seqs), perm=[1, 0, 2])   # shape [None, n_steps, n_neurons]"
   ]
  },
  {
   "cell_type": "code",
   "execution_count": 9,
   "metadata": {},
   "outputs": [],
   "source": [
    "X_batch = np.array([\n",
    "        # t = 0      t = 1 \n",
    "        [[0, 1, 2], [9, 8, 7]], # instance 1\n",
    "        [[3, 4, 5], [0, 0, 0]], # instance 2\n",
    "        [[6, 7, 8], [6, 5, 4]], # instance 3\n",
    "        [[9, 0, 1], [3, 2, 1]], # instance 4\n",
    "    ])"
   ]
  },
  {
   "cell_type": "code",
   "execution_count": 10,
   "metadata": {},
   "outputs": [],
   "source": [
    "init = tf.global_variables_initializer()\n",
    "with tf.Session() as sess:\n",
    "    init.run()\n",
    "    outputs_val = outputs.eval(feed_dict={X: X_batch})"
   ]
  },
  {
   "cell_type": "code",
   "execution_count": 11,
   "metadata": {},
   "outputs": [
    {
     "name": "stdout",
     "output_type": "stream",
     "text": [
      "[[[-0.9437216  -0.9688752  -0.9254175  -0.72729063  0.6664808 ]\n",
      "  [-1.         -0.9916848  -0.99999934 -0.9999994   1.        ]]\n",
      "\n",
      " [[-1.         -0.99915594 -0.999774   -0.997885    0.9998903 ]\n",
      "  [ 0.28398967  0.7335063  -0.45975932 -0.81245774 -0.9186842 ]]\n",
      "\n",
      " [[-1.         -0.9999774  -0.99999934 -0.99998575  1.        ]\n",
      "  [-1.         -0.5456308  -0.9998378  -0.9999411   0.99998224]]\n",
      "\n",
      " [[-0.9999995   0.9999763  -0.8636595  -0.9996743   0.9999993 ]\n",
      "  [-0.9999479   0.97578293 -0.93021363 -0.95961726  0.99363333]]]\n"
     ]
    }
   ],
   "source": [
    "print(outputs_val)"
   ]
  },
  {
   "cell_type": "markdown",
   "metadata": {},
   "source": [
    "静态展开很有可能会造成内存溢出，更好的做法应该是使用通过实践的动态展开，即dynamic_run"
   ]
  },
  {
   "cell_type": "code",
   "execution_count": null,
   "metadata": {},
   "outputs": [],
   "source": []
  },
  {
   "cell_type": "code",
   "execution_count": 15,
   "metadata": {},
   "outputs": [],
   "source": [
    "tf.reset_default_graph()\n",
    "\n",
    "X = tf.placeholder(dtype=tf.float32, shape=[None, n_steps, n_inputs])\n",
    "\n",
    "basic_cell = tensorflow.keras.layers.SimpleRNNCell(units=n_neurons)\n",
    "output_seqs, states = tf.nn.dynamic_rnn(cell=basic_cell, inputs=X, dtype=tf.float32)\n",
    "# output_seqs, states = tensorflow.keras.layers.RNN(cell=basic_cell, inputs=X, dtype=tf.float32)\n",
    "\n",
    "outputs = tf.transpose(tf.stack(output_seqs), perm=[1, 0, 2])   # shape [None, n_steps, n_neurons]"
   ]
  },
  {
   "cell_type": "code",
   "execution_count": 16,
   "metadata": {},
   "outputs": [
    {
     "name": "stdout",
     "output_type": "stream",
     "text": [
      "[[[-0.04931172  0.79321074  0.8753438   0.91418236 -0.4044742 ]\n",
      "  [-0.41395688  0.8886208   0.9982269   0.99997056  0.24415475]\n",
      "  [-0.6812283   0.94144726  0.99997646  1.          0.72936165]\n",
      "  [-0.96296126 -0.3227796   0.9312403   0.9999824   0.9999989 ]]\n",
      "\n",
      " [[-0.9685134   0.11808459  0.9999349   1.          0.96396995]\n",
      "  [-0.62497747 -0.3147351   0.29549137  0.8355327  -0.72050816]\n",
      "  [-0.8401544  -0.7986587   0.9979395   0.9999997   0.5194646 ]\n",
      "  [-0.6585177  -0.98426414  0.8387527   0.99621475  0.5303947 ]]]\n"
     ]
    }
   ],
   "source": [
    "init = tf.global_variables_initializer()\n",
    "with tf.Session() as sess:\n",
    "    init.run()\n",
    "    outputs_val = outputs.eval(feed_dict={X: X_batch})\n",
    "print(outputs_val)"
   ]
  }
 ],
 "metadata": {
  "kernelspec": {
   "display_name": "Python 3.10.4 64-bit",
   "language": "python",
   "name": "python3"
  },
  "language_info": {
   "codemirror_mode": {
    "name": "ipython",
    "version": 3
   },
   "file_extension": ".py",
   "mimetype": "text/x-python",
   "name": "python",
   "nbconvert_exporter": "python",
   "pygments_lexer": "ipython3",
   "version": "3.10.4"
  },
  "orig_nbformat": 4,
  "vscode": {
   "interpreter": {
    "hash": "301a17a29b57d3836b7901af1621afd6d2b1f2298b9c7949191147cf2fea93e3"
   }
  }
 },
 "nbformat": 4,
 "nbformat_minor": 2
}
